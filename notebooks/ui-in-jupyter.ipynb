{
 "cells": [
  {
   "cell_type": "code",
   "execution_count": 3,
   "metadata": {
    "collapsed": true
   },
   "outputs": [
    {
     "name": "stdout",
     "output_type": "stream",
     "text": [
      "/tf\r\n",
      "fatal: destination path 'loqui-ui' already exists and is not an empty directory.\r\n",
      "Hit:1 http://security.ubuntu.com/ubuntu focal-security InRelease\r\n",
      "Hit:2 http://archive.ubuntu.com/ubuntu focal InRelease                         \r\n",
      "Hit:3 http://archive.ubuntu.com/ubuntu focal-updates InRelease                 \r\n",
      "Hit:4 https://developer.download.nvidia.com/compute/cuda/repos/ubuntu2004/x86_64  InRelease\r\n",
      "Hit:5 http://archive.ubuntu.com/ubuntu focal-backports InRelease\r\n",
      "Ign:6 https://developer.download.nvidia.com/compute/machine-learning/repos/ubuntu1804/x86_64  InRelease\r\n",
      "Hit:7 https://developer.download.nvidia.com/compute/machine-learning/repos/ubuntu1804/x86_64  Release\r\n",
      "Reading package lists... Done\r\n",
      "Reading package lists... Done\r\n",
      "Building dependency tree       \r\n",
      "Reading state information... Done\r\n",
      "^C\r\n"
     ]
    }
   ],
   "source": [
    "# Cloning loqui-ui into /tf\n",
    "!pwd\n",
    "!apt-get update && apt-get install npm nodejs\n"
   ]
  },
  {
   "cell_type": "code",
   "execution_count": null,
   "outputs": [],
   "source": [
    "%cd /tf/loqui-ui\n"
   ],
   "metadata": {
    "collapsed": false
   }
  }
 ],
 "metadata": {
  "kernelspec": {
   "display_name": "Python 3",
   "language": "python",
   "name": "python3"
  },
  "language_info": {
   "codemirror_mode": {
    "name": "ipython",
    "version": 2
   },
   "file_extension": ".py",
   "mimetype": "text/x-python",
   "name": "python",
   "nbconvert_exporter": "python",
   "pygments_lexer": "ipython2",
   "version": "2.7.6"
  }
 },
 "nbformat": 4,
 "nbformat_minor": 0
}
