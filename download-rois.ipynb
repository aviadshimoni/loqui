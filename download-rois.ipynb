{
 "cells": [
  {
   "cell_type": "markdown",
   "source": [
    "# Download ROIs from GCS to colab environment"
   ],
   "metadata": {
    "collapsed": false
   }
  },
  {
   "cell_type": "code",
   "execution_count": 14,
   "outputs": [
    {
     "name": "stdout",
     "output_type": "stream",
     "text": [
      "Requirement already satisfied: google-cloud-storage in ./venv/lib/python3.11/site-packages (2.8.0)\r\n",
      "Requirement already satisfied: google-auth<3.0dev,>=1.25.0 in ./venv/lib/python3.11/site-packages (from google-cloud-storage) (2.17.3)\r\n",
      "Requirement already satisfied: google-api-core!=2.0.*,!=2.1.*,!=2.2.*,!=2.3.0,<3.0.0dev,>=1.31.5 in ./venv/lib/python3.11/site-packages (from google-cloud-storage) (2.11.0)\r\n",
      "Requirement already satisfied: google-cloud-core<3.0dev,>=2.3.0 in ./venv/lib/python3.11/site-packages (from google-cloud-storage) (2.3.2)\r\n",
      "Requirement already satisfied: google-resumable-media>=2.3.2 in ./venv/lib/python3.11/site-packages (from google-cloud-storage) (2.4.1)\r\n",
      "Requirement already satisfied: requests<3.0.0dev,>=2.18.0 in ./venv/lib/python3.11/site-packages (from google-cloud-storage) (2.28.2)\r\n",
      "Requirement already satisfied: googleapis-common-protos<2.0dev,>=1.56.2 in ./venv/lib/python3.11/site-packages (from google-api-core!=2.0.*,!=2.1.*,!=2.2.*,!=2.3.0,<3.0.0dev,>=1.31.5->google-cloud-storage) (1.59.0)\r\n",
      "Requirement already satisfied: protobuf!=3.20.0,!=3.20.1,!=4.21.0,!=4.21.1,!=4.21.2,!=4.21.3,!=4.21.4,!=4.21.5,<5.0.0dev,>=3.19.5 in ./venv/lib/python3.11/site-packages (from google-api-core!=2.0.*,!=2.1.*,!=2.2.*,!=2.3.0,<3.0.0dev,>=1.31.5->google-cloud-storage) (4.22.3)\r\n",
      "Requirement already satisfied: cachetools<6.0,>=2.0.0 in ./venv/lib/python3.11/site-packages (from google-auth<3.0dev,>=1.25.0->google-cloud-storage) (5.3.0)\r\n",
      "Requirement already satisfied: pyasn1-modules>=0.2.1 in ./venv/lib/python3.11/site-packages (from google-auth<3.0dev,>=1.25.0->google-cloud-storage) (0.3.0)\r\n",
      "Requirement already satisfied: six>=1.9.0 in ./venv/lib/python3.11/site-packages (from google-auth<3.0dev,>=1.25.0->google-cloud-storage) (1.16.0)\r\n",
      "Requirement already satisfied: rsa<5,>=3.1.4 in ./venv/lib/python3.11/site-packages (from google-auth<3.0dev,>=1.25.0->google-cloud-storage) (4.9)\r\n",
      "Requirement already satisfied: google-crc32c<2.0dev,>=1.0 in ./venv/lib/python3.11/site-packages (from google-resumable-media>=2.3.2->google-cloud-storage) (1.5.0)\r\n",
      "Requirement already satisfied: charset-normalizer<4,>=2 in ./venv/lib/python3.11/site-packages (from requests<3.0.0dev,>=2.18.0->google-cloud-storage) (3.1.0)\r\n",
      "Requirement already satisfied: idna<4,>=2.5 in ./venv/lib/python3.11/site-packages (from requests<3.0.0dev,>=2.18.0->google-cloud-storage) (3.4)\r\n",
      "Requirement already satisfied: urllib3<1.27,>=1.21.1 in ./venv/lib/python3.11/site-packages (from requests<3.0.0dev,>=2.18.0->google-cloud-storage) (1.26.15)\r\n",
      "Requirement already satisfied: certifi>=2017.4.17 in ./venv/lib/python3.11/site-packages (from requests<3.0.0dev,>=2.18.0->google-cloud-storage) (2022.12.7)\r\n",
      "Requirement already satisfied: pyasn1<0.6.0,>=0.4.6 in ./venv/lib/python3.11/site-packages (from pyasn1-modules>=0.2.1->google-auth<3.0dev,>=1.25.0->google-cloud-storage) (0.5.0)\r\n",
      "\r\n",
      "\u001B[1m[\u001B[0m\u001B[34;49mnotice\u001B[0m\u001B[1;39;49m]\u001B[0m\u001B[39;49m A new release of pip available: \u001B[0m\u001B[31;49m22.3.1\u001B[0m\u001B[39;49m -> \u001B[0m\u001B[32;49m23.1\u001B[0m\r\n",
      "\u001B[1m[\u001B[0m\u001B[34;49mnotice\u001B[0m\u001B[1;39;49m]\u001B[0m\u001B[39;49m To update, run: \u001B[0m\u001B[32;49mpip install --upgrade pip\u001B[0m\r\n"
     ]
    }
   ],
   "source": [
    "!pip install google-cloud-storage"
   ],
   "metadata": {
    "collapsed": false
   }
  },
  {
   "cell_type": "code",
   "execution_count": 15,
   "metadata": {
    "collapsed": true
   },
   "outputs": [
    {
     "name": "stdout",
     "output_type": "stream",
     "text": [
      "Downloaded POC_1_20.4.23.docx to /tmp/POC_1_20.4.23.docx\n"
     ]
    }
   ],
   "source": [
    "import os\n",
    "from google.cloud import storage\n",
    "\n",
    "os.environ[\"GOOGLE_APPLICATION_CREDENTIALS\"]=\"/Users/aviads/Desktop/colman/loqui/loqui/service_account_key.json\"\n",
    "# Set the name of the bucket you want to download files from\n",
    "bucket_name = 'lrw-oxford-bbc'\n",
    "\n",
    "# Set the directory where you want to download the files\n",
    "download_dir = '/tmp'\n",
    "\n",
    "# Create a client object to interact with the Google Cloud Storage API\n",
    "client = storage.Client()\n",
    "\n",
    "# Get the bucket object you want to download files from\n",
    "bucket = client.get_bucket(bucket_name)\n",
    "\n",
    "# Get all the blobs (files) in the bucket\n",
    "blobs = bucket.list_blobs()\n",
    "\n",
    "# Iterate over each blob and download it to the specified directory\n",
    "for blob in blobs:\n",
    "    file_path = os.path.join(download_dir, blob.name)\n",
    "    blob.download_to_filename(file_path)\n",
    "\n",
    "    # Print a message for each downloaded file\n",
    "    print(f'Downloaded {blob.name} to {file_path}')\n"
   ]
  }
 ],
 "metadata": {
  "kernelspec": {
   "display_name": "Python 3",
   "language": "python",
   "name": "python3"
  },
  "language_info": {
   "codemirror_mode": {
    "name": "ipython",
    "version": 2
   },
   "file_extension": ".py",
   "mimetype": "text/x-python",
   "name": "python",
   "nbconvert_exporter": "python",
   "pygments_lexer": "ipython2",
   "version": "2.7.6"
  }
 },
 "nbformat": 4,
 "nbformat_minor": 0
}
