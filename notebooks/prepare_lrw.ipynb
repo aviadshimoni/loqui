{
 "cells": [
  {
   "cell_type": "code",
   "execution_count": 35,
   "outputs": [
    {
     "name": "stdout",
     "output_type": "stream",
     "text": [
      "[Errno 2] No such file or directory: 'loqui'\n",
      "/tf/loqui\n",
      "remote: Enumerating objects: 4, done.\u001B[K\r\n",
      "remote: Counting objects: 100% (4/4), done.\u001B[K\r\n",
      "remote: Compressing objects: 100% (2/2), done.\u001B[K\r\n",
      "remote: Total 4 (delta 2), reused 4 (delta 2), pack-reused 0\u001B[K\r\n",
      "Unpacking objects: 100% (4/4), 2.94 KiB | 2.94 MiB/s, done.\r\n",
      "From https://github.com/aviadshimoni/loqui\r\n",
      "   5da35eb..d545bc1  prepare-all-videos -> origin/prepare-all-videos\r\n",
      "Updating 5da35eb..d545bc1\r\n",
      "Fast-forward\r\n",
      " label_sorted.txt            |   230 \u001B[32m+\u001B[m\u001B[31m-\u001B[m\r\n",
      " notebooks/prepare_lrw.ipynb | 34846 \u001B[32m+\u001B[m\u001B[31m-----------------------------------------\u001B[m\r\n",
      " 2 files changed, 86 insertions(+), 34990 deletions(-)\r\n",
      "Already on 'prepare-all-videos'\r\n",
      "Your branch is up to date with 'origin/prepare-all-videos'.\r\n",
      "From https://github.com/aviadshimoni/loqui\r\n",
      " * branch            prepare-all-videos -> FETCH_HEAD\r\n",
      "Already up to date.\r\n"
     ]
    }
   ],
   "source": [
    "%cd loqui\n",
    "!git pull\n",
    "!git checkout prepare-all-videos && git pull origin prepare-all-videos\n"
   ],
   "metadata": {
    "collapsed": false
   }
  },
  {
   "cell_type": "code",
   "execution_count": 36,
   "outputs": [
    {
     "name": "stdout",
     "output_type": "stream",
     "text": [
      "  avivs_experiments_20230527\u001B[m\r\n",
      "  main\u001B[m\r\n",
      "  new-mp4-train\u001B[m\r\n",
      "* \u001B[32mprepare-all-videos\u001B[m\r\n",
      "  print\u001B[m\r\n",
      "Requirement already satisfied: torch>=1.3.0 in /usr/local/lib/python3.8/dist-packages (from -r requirements.txt (line 1)) (2.0.1)\r\n",
      "Requirement already satisfied: numpy>=1.16.4 in /usr/local/lib/python3.8/dist-packages (from -r requirements.txt (line 2)) (1.24.3)\r\n",
      "Requirement already satisfied: opencv-python>=4.1.0 in /usr/local/lib/python3.8/dist-packages (from -r requirements.txt (line 3)) (4.7.0.72)\r\n",
      "Requirement already satisfied: PyTurboJPEG in /usr/local/lib/python3.8/dist-packages (from -r requirements.txt (line 4)) (1.7.1)\r\n",
      "Requirement already satisfied: matplotlib~=3.7.1 in /usr/local/lib/python3.8/dist-packages (from -r requirements.txt (line 5)) (3.7.1)\r\n",
      "Requirement already satisfied: moviepy in /usr/local/lib/python3.8/dist-packages (from -r requirements.txt (line 6)) (1.0.3)\r\n",
      "Requirement already satisfied: triton==2.0.0 in /usr/local/lib/python3.8/dist-packages (from torch>=1.3.0->-r requirements.txt (line 1)) (2.0.0)\r\n",
      "Requirement already satisfied: typing-extensions in /usr/local/lib/python3.8/dist-packages (from torch>=1.3.0->-r requirements.txt (line 1)) (4.6.1)\r\n",
      "Requirement already satisfied: nvidia-cufft-cu11==10.9.0.58 in /usr/local/lib/python3.8/dist-packages (from torch>=1.3.0->-r requirements.txt (line 1)) (10.9.0.58)\r\n",
      "Requirement already satisfied: nvidia-curand-cu11==10.2.10.91 in /usr/local/lib/python3.8/dist-packages (from torch>=1.3.0->-r requirements.txt (line 1)) (10.2.10.91)\r\n",
      "Requirement already satisfied: nvidia-cublas-cu11==11.10.3.66 in /usr/local/lib/python3.8/dist-packages (from torch>=1.3.0->-r requirements.txt (line 1)) (11.10.3.66)\r\n",
      "Requirement already satisfied: nvidia-nccl-cu11==2.14.3 in /usr/local/lib/python3.8/dist-packages (from torch>=1.3.0->-r requirements.txt (line 1)) (2.14.3)\r\n",
      "Requirement already satisfied: nvidia-cusparse-cu11==11.7.4.91 in /usr/local/lib/python3.8/dist-packages (from torch>=1.3.0->-r requirements.txt (line 1)) (11.7.4.91)\r\n",
      "Requirement already satisfied: nvidia-cuda-nvrtc-cu11==11.7.99 in /usr/local/lib/python3.8/dist-packages (from torch>=1.3.0->-r requirements.txt (line 1)) (11.7.99)\r\n",
      "Requirement already satisfied: nvidia-cudnn-cu11==8.5.0.96 in /usr/local/lib/python3.8/dist-packages (from torch>=1.3.0->-r requirements.txt (line 1)) (8.5.0.96)\r\n",
      "Requirement already satisfied: sympy in /usr/local/lib/python3.8/dist-packages (from torch>=1.3.0->-r requirements.txt (line 1)) (1.12)\r\n",
      "Requirement already satisfied: filelock in /usr/local/lib/python3.8/dist-packages (from torch>=1.3.0->-r requirements.txt (line 1)) (3.12.0)\r\n",
      "Requirement already satisfied: jinja2 in /usr/local/lib/python3.8/dist-packages (from torch>=1.3.0->-r requirements.txt (line 1)) (3.1.2)\r\n",
      "Requirement already satisfied: nvidia-cusolver-cu11==11.4.0.1 in /usr/local/lib/python3.8/dist-packages (from torch>=1.3.0->-r requirements.txt (line 1)) (11.4.0.1)\r\n",
      "Requirement already satisfied: networkx in /usr/local/lib/python3.8/dist-packages (from torch>=1.3.0->-r requirements.txt (line 1)) (3.1)\r\n",
      "Requirement already satisfied: nvidia-nvtx-cu11==11.7.91 in /usr/local/lib/python3.8/dist-packages (from torch>=1.3.0->-r requirements.txt (line 1)) (11.7.91)\r\n",
      "Requirement already satisfied: nvidia-cuda-runtime-cu11==11.7.99 in /usr/local/lib/python3.8/dist-packages (from torch>=1.3.0->-r requirements.txt (line 1)) (11.7.99)\r\n",
      "Requirement already satisfied: nvidia-cuda-cupti-cu11==11.7.101 in /usr/local/lib/python3.8/dist-packages (from torch>=1.3.0->-r requirements.txt (line 1)) (11.7.101)\r\n",
      "Requirement already satisfied: wheel in /usr/local/lib/python3.8/dist-packages (from nvidia-cublas-cu11==11.10.3.66->torch>=1.3.0->-r requirements.txt (line 1)) (0.40.0)\r\n",
      "Requirement already satisfied: setuptools in /usr/local/lib/python3.8/dist-packages (from nvidia-cublas-cu11==11.10.3.66->torch>=1.3.0->-r requirements.txt (line 1)) (67.6.0)\r\n",
      "Requirement already satisfied: lit in /usr/local/lib/python3.8/dist-packages (from triton==2.0.0->torch>=1.3.0->-r requirements.txt (line 1)) (16.0.2)\r\n",
      "Requirement already satisfied: cmake in /usr/local/lib/python3.8/dist-packages (from triton==2.0.0->torch>=1.3.0->-r requirements.txt (line 1)) (3.26.3)\r\n",
      "Requirement already satisfied: packaging>=20.0 in /usr/local/lib/python3.8/dist-packages (from matplotlib~=3.7.1->-r requirements.txt (line 5)) (23.1)\r\n",
      "Requirement already satisfied: contourpy>=1.0.1 in /usr/local/lib/python3.8/dist-packages (from matplotlib~=3.7.1->-r requirements.txt (line 5)) (1.0.7)\r\n",
      "Requirement already satisfied: kiwisolver>=1.0.1 in /usr/local/lib/python3.8/dist-packages (from matplotlib~=3.7.1->-r requirements.txt (line 5)) (1.4.4)\r\n",
      "Requirement already satisfied: pyparsing>=2.3.1 in /usr/local/lib/python3.8/dist-packages (from matplotlib~=3.7.1->-r requirements.txt (line 5)) (3.0.9)\r\n",
      "Requirement already satisfied: pillow>=6.2.0 in /usr/local/lib/python3.8/dist-packages (from matplotlib~=3.7.1->-r requirements.txt (line 5)) (9.5.0)\r\n",
      "Requirement already satisfied: python-dateutil>=2.7 in /usr/local/lib/python3.8/dist-packages (from matplotlib~=3.7.1->-r requirements.txt (line 5)) (2.8.2)\r\n",
      "Requirement already satisfied: cycler>=0.10 in /usr/local/lib/python3.8/dist-packages (from matplotlib~=3.7.1->-r requirements.txt (line 5)) (0.11.0)\r\n",
      "Requirement already satisfied: fonttools>=4.22.0 in /usr/local/lib/python3.8/dist-packages (from matplotlib~=3.7.1->-r requirements.txt (line 5)) (4.39.4)\r\n",
      "Requirement already satisfied: importlib-resources>=3.2.0 in /usr/local/lib/python3.8/dist-packages (from matplotlib~=3.7.1->-r requirements.txt (line 5)) (5.12.0)\r\n",
      "Requirement already satisfied: imageio-ffmpeg>=0.2.0 in /usr/local/lib/python3.8/dist-packages (from moviepy->-r requirements.txt (line 6)) (0.4.8)\r\n",
      "Requirement already satisfied: decorator<5.0,>=4.0.2 in /usr/local/lib/python3.8/dist-packages (from moviepy->-r requirements.txt (line 6)) (4.4.2)\r\n",
      "Requirement already satisfied: imageio<3.0,>=2.5 in /usr/local/lib/python3.8/dist-packages (from moviepy->-r requirements.txt (line 6)) (2.29.0)\r\n",
      "Requirement already satisfied: tqdm<5.0,>=4.11.2 in /usr/local/lib/python3.8/dist-packages (from moviepy->-r requirements.txt (line 6)) (4.65.0)\r\n",
      "Requirement already satisfied: proglog<=1.0.0 in /usr/local/lib/python3.8/dist-packages (from moviepy->-r requirements.txt (line 6)) (0.1.10)\r\n",
      "Requirement already satisfied: requests<3.0,>=2.8.1 in /usr/lib/python3/dist-packages (from moviepy->-r requirements.txt (line 6)) (2.22.0)\r\n",
      "Requirement already satisfied: zipp>=3.1.0 in /usr/local/lib/python3.8/dist-packages (from importlib-resources>=3.2.0->matplotlib~=3.7.1->-r requirements.txt (line 5)) (3.15.0)\r\n",
      "Requirement already satisfied: six>=1.5 in /usr/local/lib/python3.8/dist-packages (from python-dateutil>=2.7->matplotlib~=3.7.1->-r requirements.txt (line 5)) (1.16.0)\r\n",
      "Requirement already satisfied: MarkupSafe>=2.0 in /usr/local/lib/python3.8/dist-packages (from jinja2->torch>=1.3.0->-r requirements.txt (line 1)) (2.1.2)\r\n",
      "Requirement already satisfied: mpmath>=0.19 in /usr/local/lib/python3.8/dist-packages (from sympy->torch>=1.3.0->-r requirements.txt (line 1)) (1.3.0)\r\n",
      "\u001B[33mWARNING: Running pip as the 'root' user can result in broken permissions and conflicting behaviour with the system package manager. It is recommended to use a virtual environment instead: https://pip.pypa.io/warnings/venv\u001B[0m\u001B[33m\r\n",
      "\u001B[0m\r\n",
      "\u001B[1m[\u001B[0m\u001B[34;49mnotice\u001B[0m\u001B[1;39;49m]\u001B[0m\u001B[39;49m A new release of pip is available: \u001B[0m\u001B[31;49m23.0.1\u001B[0m\u001B[39;49m -> \u001B[0m\u001B[32;49m23.1.2\u001B[0m\r\n",
      "\u001B[1m[\u001B[0m\u001B[34;49mnotice\u001B[0m\u001B[1;39;49m]\u001B[0m\u001B[39;49m To update, run: \u001B[0m\u001B[32;49mpython3 -m pip install --upgrade pip\u001B[0m\r\n",
      "eta:0.07880\r\n",
      "eta:0.03918\r\n",
      "eta:0.02704\r\n",
      "eta:0.02016\r\n",
      "eta:0.01610\r\n",
      "eta:0.01345\r\n",
      "eta:0.01147\r\n",
      "eta:0.00998\r\n",
      "eta:0.00882\r\n",
      "eta:0.00789\r\n",
      "eta:0.00713\r\n",
      "eta:0.00650\r\n",
      "eta:0.00596\r\n",
      "eta:0.00551\r\n",
      "eta:0.00511\r\n",
      "eta:0.00476\r\n",
      "eta:0.00749\r\n",
      "eta:0.00703\r\n",
      "eta:0.00730\r\n",
      "eta:0.00689\r\n",
      "eta:0.00652\r\n",
      "eta:0.00618\r\n",
      "eta:0.00587\r\n",
      "eta:0.00559\r\n",
      "eta:0.00534\r\n",
      "eta:0.00510\r\n",
      "eta:0.00488\r\n",
      "eta:0.00467\r\n",
      "eta:0.00448\r\n",
      "eta:0.00430\r\n",
      "eta:0.00413\r\n",
      "eta:0.00398\r\n",
      "Traceback (most recent call last):\r\n",
      "  File \"/tf/loqui/scripts/prepare_lrw.py\", line 175, in <module>\r\n",
      "    main()\r\n",
      "  File \"/tf/loqui/scripts/prepare_lrw.py\", line 168, in main\r\n",
      "    for i, batch in enumerate(loader):\r\n",
      "  File \"/usr/local/lib/python3.8/dist-packages/torch/utils/data/dataloader.py\", line 633, in __next__\r\n",
      "    data = self._next_data()\r\n",
      "  File \"/usr/local/lib/python3.8/dist-packages/torch/utils/data/dataloader.py\", line 1345, in _next_data\r\n",
      "    return self._process_data(data)\r\n",
      "  File \"/usr/local/lib/python3.8/dist-packages/torch/utils/data/dataloader.py\", line 1371, in _process_data\r\n",
      "    data.reraise()\r\n",
      "  File \"/usr/local/lib/python3.8/dist-packages/torch/_utils.py\", line 644, in reraise\r\n",
      "    raise exception\r\n",
      "RuntimeError: Caught RuntimeError in DataLoader worker process 0.\r\n",
      "Original Traceback (most recent call last):\r\n",
      "  File \"/usr/local/lib/python3.8/dist-packages/torch/utils/data/_utils/worker.py\", line 308, in _worker_loop\r\n",
      "    data = fetcher.fetch(index)\r\n",
      "  File \"/usr/local/lib/python3.8/dist-packages/torch/utils/data/_utils/fetch.py\", line 54, in fetch\r\n",
      "    return self.collate_fn(data)\r\n",
      "  File \"/usr/local/lib/python3.8/dist-packages/torch/utils/data/_utils/collate.py\", line 265, in default_collate\r\n",
      "    return collate(batch, collate_fn_map=default_collate_fn_map)\r\n",
      "  File \"/usr/local/lib/python3.8/dist-packages/torch/utils/data/_utils/collate.py\", line 127, in collate\r\n",
      "    return elem_type({key: collate([d[key] for d in batch], collate_fn_map=collate_fn_map) for key in elem})\r\n",
      "  File \"/usr/local/lib/python3.8/dist-packages/torch/utils/data/_utils/collate.py\", line 127, in <dictcomp>\r\n",
      "    return elem_type({key: collate([d[key] for d in batch], collate_fn_map=collate_fn_map) for key in elem})\r\n",
      "  File \"/usr/local/lib/python3.8/dist-packages/torch/utils/data/_utils/collate.py\", line 119, in collate\r\n",
      "    return collate_fn_map[elem_type](batch, collate_fn_map=collate_fn_map)\r\n",
      "  File \"/usr/local/lib/python3.8/dist-packages/torch/utils/data/_utils/collate.py\", line 171, in collate_numpy_array_fn\r\n",
      "    return collate([torch.as_tensor(b) for b in batch], collate_fn_map=collate_fn_map)\r\n",
      "  File \"/usr/local/lib/python3.8/dist-packages/torch/utils/data/_utils/collate.py\", line 119, in collate\r\n",
      "    return collate_fn_map[elem_type](batch, collate_fn_map=collate_fn_map)\r\n",
      "  File \"/usr/local/lib/python3.8/dist-packages/torch/utils/data/_utils/collate.py\", line 161, in collate_tensor_fn\r\n",
      "    out = elem.new(storage).resize_(len(batch), *list(elem.size()))\r\n",
      "RuntimeError: Trying to resize storage that is not resizable\r\n",
      "\r\n"
     ]
    }
   ],
   "source": [
    "!git branch\n",
    "!pip install -r requirements.txt\n",
    "!python /tf/loqui/scripts/prepare_lrw.py"
   ],
   "metadata": {
    "collapsed": false
   }
  },
  {
   "cell_type": "code",
   "execution_count": 22,
   "outputs": [
    {
     "name": "stdout",
     "output_type": "stream",
     "text": [
      "Copied test and val directories for word: ACTION\r\n",
      "Copied test and val directories for word: AGAIN\r\n",
      "Copied test and val directories for word: FRIDAY\r\n",
      "Copied test and val directories for word: LEADERSHIP\r\n",
      "cp: cannot stat '/tf/loqui/lrw_roi_npy_gray_pkl_jpeg/MOVING/test': No such file or directory\r\n",
      "cp: cannot stat '/tf/loqui/lrw_roi_npy_gray_pkl_jpeg/MOVING/val': No such file or directory\r\n",
      "Copied test and val directories for word: MOVING\r\n"
     ]
    }
   ],
   "source": [
    "! chmod +x /tf/copy-test-val.sh\n",
    "! /tf/copy-test-val.sh"
   ],
   "metadata": {
    "collapsed": false
   }
  },
  {
   "cell_type": "code",
   "execution_count": 26,
   "outputs": [],
   "source": [
    "!cp /tf/loqui/lrw_roi_npy_gray_pkl_jpeg/MOVING/train/* /tf/loqui/custom_lipread_pkls/LEADERSHIP/train"
   ],
   "metadata": {
    "collapsed": false
   }
  }
 ],
 "metadata": {
  "kernelspec": {
   "display_name": "Python 3",
   "language": "python",
   "name": "python3"
  },
  "language_info": {
   "codemirror_mode": {
    "name": "ipython",
    "version": 2
   },
   "file_extension": ".py",
   "mimetype": "text/x-python",
   "name": "python",
   "nbconvert_exporter": "python",
   "pygments_lexer": "ipython2",
   "version": "2.7.6"
  }
 },
 "nbformat": 4,
 "nbformat_minor": 0
}
