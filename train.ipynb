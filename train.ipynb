{
 "cells": [
  {
   "cell_type": "code",
   "execution_count": 25,
   "outputs": [
    {
     "name": "stdout",
     "output_type": "stream",
     "text": [
      "loqui is the best\n"
     ]
    }
   ],
   "source": [
    "print(\"aviad\")"
   ],
   "metadata": {
    "collapsed": false
   }
  },
  {
   "cell_type": "code",
   "execution_count": null,
   "metadata": {
    "collapsed": true,
    "pycharm": {
     "is_executing": true
    }
   },
   "outputs": [
    {
     "name": "stdout",
     "output_type": "stream",
     "text": [
      "LICENSE    download_rois_from_gcs.ipynb  requirements.txt  utils\r\n",
      "README.md  interfaces\t\t\t scripts\r\n",
      "dataset    model\t\t\t train.ipynb\r\n",
      "Already on 'avivs_train_20230421'\r\n",
      "Your branch is up to date with 'origin/avivs_train_20230421'.\r\n",
      "Collecting torch>=1.3.0\r\n",
      "  Downloading torch-2.0.0-cp38-cp38-manylinux1_x86_64.whl (619.9 MB)\r\n",
      "\u001B[2K     \u001B[91m━━\u001B[0m\u001B[91m╸\u001B[0m\u001B[90m━━━━━━━━━━━━━━━━━━━━━━━━━━━━━━━━━━━━━\u001B[0m \u001B[32m40.0/619.9 MB\u001B[0m \u001B[31m2.5 MB/s\u001B[0m eta \u001B[36m0:03:49\u001B[0m"
     ]
    }
   ],
   "source": [
    "!ls\n",
    "!pip install -r requirements.txt\n",
    "\n",
    "from model.model_train import train\n",
    "print(\"aviad\")\n",
    "train(batch_size=400, num_workers=8, learning_rate=3e-4, epochs=120, n_classes=8)"
   ]
  }
 ],
 "metadata": {
  "kernelspec": {
   "display_name": "Python 3",
   "language": "python",
   "name": "python3"
  },
  "language_info": {
   "codemirror_mode": {
    "name": "ipython",
    "version": 2
   },
   "file_extension": ".py",
   "mimetype": "text/x-python",
   "name": "python",
   "nbconvert_exporter": "python",
   "pygments_lexer": "ipython2",
   "version": "2.7.6"
  }
 },
 "nbformat": 4,
 "nbformat_minor": 0
}
