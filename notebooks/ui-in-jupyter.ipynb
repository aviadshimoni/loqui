{
 "cells": [
  {
   "cell_type": "code",
   "execution_count": 13,
   "metadata": {
    "collapsed": true
   },
   "outputs": [
    {
     "name": "stdout",
     "output_type": "stream",
     "text": [
      "[Errno 2] No such file or directory: 'loqui'\n",
      "/tf/loqui\n",
      "remote: Enumerating objects: 4, done.\u001B[K\r\n",
      "remote: Counting objects: 100% (4/4), done.\u001B[K\r\n",
      "remote: Total 4 (delta 3), reused 4 (delta 3), pack-reused 0\u001B[K\r\n",
      "Unpacking objects: 100% (4/4), 784 bytes | 784.00 KiB/s, done.\r\n",
      "From https://github.com/aviadshimoni/loqui\r\n",
      "   660564c..78b87de  backend    -> origin/backend\r\n",
      "Updating 660564c..78b87de\r\n",
      "Fast-forward\r\n",
      " backend/app.py => app.py      |  0\r\n",
      " notebooks/ui-in-jupyter.ipynb | 81 \u001B[32m+++++++++++++++++++\u001B[m\u001B[31m------------------------\u001B[m\r\n",
      " 2 files changed, 36 insertions(+), 45 deletions(-)\r\n",
      " rename backend/app.py => app.py (100%)\r\n",
      "Already on 'backend'\r\n",
      "Your branch is up to date with 'origin/backend'.\r\n",
      "From https://github.com/aviadshimoni/loqui\r\n",
      " * branch            backend    -> FETCH_HEAD\r\n",
      "Already up to date.\r\n",
      "  aviad/increase-batch-size\u001B[m\r\n",
      "  avivs_experiments\u001B[m\r\n",
      "  avivs_experiments_20230527\u001B[m\r\n",
      "* \u001B[32mbackend\u001B[m\r\n",
      "  main\u001B[m\r\n",
      "  new-mp4-train\u001B[m\r\n",
      "  prepare-all-videos\u001B[m\r\n",
      "  prepare-custom-videos\u001B[m\r\n",
      "  prepare-lrw-handle-all-videos\u001B[m\r\n",
      "  print\u001B[m\r\n",
      "Requirement already satisfied: torch>=1.3.0 in /usr/local/lib/python3.8/dist-packages (from -r requirements.txt (line 1)) (2.0.1)\r\n",
      "Requirement already satisfied: numpy>=1.16.4 in /usr/local/lib/python3.8/dist-packages (from -r requirements.txt (line 2)) (1.24.3)\r\n",
      "Requirement already satisfied: opencv-python>=4.1.0 in /usr/local/lib/python3.8/dist-packages (from -r requirements.txt (line 3)) (4.7.0.72)\r\n",
      "Requirement already satisfied: PyTurboJPEG in /usr/local/lib/python3.8/dist-packages (from -r requirements.txt (line 4)) (1.7.1)\r\n",
      "Requirement already satisfied: matplotlib~=3.7.1 in /usr/local/lib/python3.8/dist-packages (from -r requirements.txt (line 5)) (3.7.1)\r\n",
      "Requirement already satisfied: moviepy in /usr/local/lib/python3.8/dist-packages (from -r requirements.txt (line 6)) (1.0.3)\r\n",
      "Requirement already satisfied: transforms~=0.1 in /usr/local/lib/python3.8/dist-packages (from -r requirements.txt (line 7)) (0.1)\r\n",
      "Requirement already satisfied: torchvision~=0.15.1 in /usr/local/lib/python3.8/dist-packages (from -r requirements.txt (line 8)) (0.15.2)\r\n",
      "Requirement already satisfied: Flask~=2.3.2 in /usr/local/lib/python3.8/dist-packages (from -r requirements.txt (line 9)) (2.3.2)\r\n",
      "Requirement already satisfied: networkx in /usr/local/lib/python3.8/dist-packages (from torch>=1.3.0->-r requirements.txt (line 1)) (3.1)\r\n",
      "Requirement already satisfied: nvidia-nvtx-cu11==11.7.91 in /usr/local/lib/python3.8/dist-packages (from torch>=1.3.0->-r requirements.txt (line 1)) (11.7.91)\r\n",
      "Requirement already satisfied: nvidia-cuda-runtime-cu11==11.7.99 in /usr/local/lib/python3.8/dist-packages (from torch>=1.3.0->-r requirements.txt (line 1)) (11.7.99)\r\n",
      "Requirement already satisfied: jinja2 in /usr/local/lib/python3.8/dist-packages (from torch>=1.3.0->-r requirements.txt (line 1)) (3.1.2)\r\n",
      "Requirement already satisfied: nvidia-cusparse-cu11==11.7.4.91 in /usr/local/lib/python3.8/dist-packages (from torch>=1.3.0->-r requirements.txt (line 1)) (11.7.4.91)\r\n",
      "Requirement already satisfied: triton==2.0.0 in /usr/local/lib/python3.8/dist-packages (from torch>=1.3.0->-r requirements.txt (line 1)) (2.0.0)\r\n",
      "Requirement already satisfied: nvidia-cublas-cu11==11.10.3.66 in /usr/local/lib/python3.8/dist-packages (from torch>=1.3.0->-r requirements.txt (line 1)) (11.10.3.66)\r\n",
      "Requirement already satisfied: filelock in /usr/local/lib/python3.8/dist-packages (from torch>=1.3.0->-r requirements.txt (line 1)) (3.12.0)\r\n",
      "Requirement already satisfied: nvidia-nccl-cu11==2.14.3 in /usr/local/lib/python3.8/dist-packages (from torch>=1.3.0->-r requirements.txt (line 1)) (2.14.3)\r\n",
      "Requirement already satisfied: sympy in /usr/local/lib/python3.8/dist-packages (from torch>=1.3.0->-r requirements.txt (line 1)) (1.12)\r\n",
      "Requirement already satisfied: typing-extensions in /usr/local/lib/python3.8/dist-packages (from torch>=1.3.0->-r requirements.txt (line 1)) (4.6.1)\r\n",
      "Requirement already satisfied: nvidia-cuda-nvrtc-cu11==11.7.99 in /usr/local/lib/python3.8/dist-packages (from torch>=1.3.0->-r requirements.txt (line 1)) (11.7.99)\r\n",
      "Requirement already satisfied: nvidia-curand-cu11==10.2.10.91 in /usr/local/lib/python3.8/dist-packages (from torch>=1.3.0->-r requirements.txt (line 1)) (10.2.10.91)\r\n",
      "Requirement already satisfied: nvidia-cusolver-cu11==11.4.0.1 in /usr/local/lib/python3.8/dist-packages (from torch>=1.3.0->-r requirements.txt (line 1)) (11.4.0.1)\r\n",
      "Requirement already satisfied: nvidia-cudnn-cu11==8.5.0.96 in /usr/local/lib/python3.8/dist-packages (from torch>=1.3.0->-r requirements.txt (line 1)) (8.5.0.96)\r\n",
      "Requirement already satisfied: nvidia-cuda-cupti-cu11==11.7.101 in /usr/local/lib/python3.8/dist-packages (from torch>=1.3.0->-r requirements.txt (line 1)) (11.7.101)\r\n",
      "Requirement already satisfied: nvidia-cufft-cu11==10.9.0.58 in /usr/local/lib/python3.8/dist-packages (from torch>=1.3.0->-r requirements.txt (line 1)) (10.9.0.58)\r\n",
      "Requirement already satisfied: setuptools in /usr/local/lib/python3.8/dist-packages (from nvidia-cublas-cu11==11.10.3.66->torch>=1.3.0->-r requirements.txt (line 1)) (67.6.0)\r\n",
      "Requirement already satisfied: wheel in /usr/local/lib/python3.8/dist-packages (from nvidia-cublas-cu11==11.10.3.66->torch>=1.3.0->-r requirements.txt (line 1)) (0.40.0)\r\n",
      "Requirement already satisfied: cmake in /usr/local/lib/python3.8/dist-packages (from triton==2.0.0->torch>=1.3.0->-r requirements.txt (line 1)) (3.26.3)\r\n",
      "Requirement already satisfied: lit in /usr/local/lib/python3.8/dist-packages (from triton==2.0.0->torch>=1.3.0->-r requirements.txt (line 1)) (16.0.2)\r\n",
      "Requirement already satisfied: fonttools>=4.22.0 in /usr/local/lib/python3.8/dist-packages (from matplotlib~=3.7.1->-r requirements.txt (line 5)) (4.39.4)\r\n",
      "Requirement already satisfied: cycler>=0.10 in /usr/local/lib/python3.8/dist-packages (from matplotlib~=3.7.1->-r requirements.txt (line 5)) (0.11.0)\r\n",
      "Requirement already satisfied: kiwisolver>=1.0.1 in /usr/local/lib/python3.8/dist-packages (from matplotlib~=3.7.1->-r requirements.txt (line 5)) (1.4.4)\r\n",
      "Requirement already satisfied: pyparsing>=2.3.1 in /usr/local/lib/python3.8/dist-packages (from matplotlib~=3.7.1->-r requirements.txt (line 5)) (3.0.9)\r\n",
      "Requirement already satisfied: pillow>=6.2.0 in /usr/local/lib/python3.8/dist-packages (from matplotlib~=3.7.1->-r requirements.txt (line 5)) (9.5.0)\r\n",
      "Requirement already satisfied: packaging>=20.0 in /usr/local/lib/python3.8/dist-packages (from matplotlib~=3.7.1->-r requirements.txt (line 5)) (23.1)\r\n",
      "Requirement already satisfied: contourpy>=1.0.1 in /usr/local/lib/python3.8/dist-packages (from matplotlib~=3.7.1->-r requirements.txt (line 5)) (1.0.7)\r\n",
      "Requirement already satisfied: importlib-resources>=3.2.0 in /usr/local/lib/python3.8/dist-packages (from matplotlib~=3.7.1->-r requirements.txt (line 5)) (5.12.0)\r\n",
      "Requirement already satisfied: python-dateutil>=2.7 in /usr/local/lib/python3.8/dist-packages (from matplotlib~=3.7.1->-r requirements.txt (line 5)) (2.8.2)\r\n",
      "Requirement already satisfied: imageio<3.0,>=2.5 in /usr/local/lib/python3.8/dist-packages (from moviepy->-r requirements.txt (line 6)) (2.29.0)\r\n",
      "Requirement already satisfied: decorator<5.0,>=4.0.2 in /usr/local/lib/python3.8/dist-packages (from moviepy->-r requirements.txt (line 6)) (4.4.2)\r\n",
      "Requirement already satisfied: imageio-ffmpeg>=0.2.0 in /usr/local/lib/python3.8/dist-packages (from moviepy->-r requirements.txt (line 6)) (0.4.8)\r\n",
      "Requirement already satisfied: tqdm<5.0,>=4.11.2 in /usr/local/lib/python3.8/dist-packages (from moviepy->-r requirements.txt (line 6)) (4.65.0)\r\n",
      "Requirement already satisfied: requests<3.0,>=2.8.1 in /usr/lib/python3/dist-packages (from moviepy->-r requirements.txt (line 6)) (2.22.0)\r\n",
      "Requirement already satisfied: proglog<=1.0.0 in /usr/local/lib/python3.8/dist-packages (from moviepy->-r requirements.txt (line 6)) (0.1.10)\r\n",
      "Requirement already satisfied: click>=8.1.3 in /usr/local/lib/python3.8/dist-packages (from Flask~=2.3.2->-r requirements.txt (line 9)) (8.1.3)\r\n",
      "Requirement already satisfied: importlib-metadata>=3.6.0 in /usr/local/lib/python3.8/dist-packages (from Flask~=2.3.2->-r requirements.txt (line 9)) (6.1.0)\r\n",
      "Requirement already satisfied: itsdangerous>=2.1.2 in /usr/local/lib/python3.8/dist-packages (from Flask~=2.3.2->-r requirements.txt (line 9)) (2.1.2)\r\n",
      "Requirement already satisfied: blinker>=1.6.2 in /usr/local/lib/python3.8/dist-packages (from Flask~=2.3.2->-r requirements.txt (line 9)) (1.6.2)\r\n",
      "Requirement already satisfied: Werkzeug>=2.3.3 in /usr/local/lib/python3.8/dist-packages (from Flask~=2.3.2->-r requirements.txt (line 9)) (2.3.4)\r\n",
      "Requirement already satisfied: zipp>=0.5 in /usr/local/lib/python3.8/dist-packages (from importlib-metadata>=3.6.0->Flask~=2.3.2->-r requirements.txt (line 9)) (3.15.0)\r\n",
      "Requirement already satisfied: MarkupSafe>=2.0 in /usr/local/lib/python3.8/dist-packages (from jinja2->torch>=1.3.0->-r requirements.txt (line 1)) (2.1.2)\r\n",
      "Requirement already satisfied: six>=1.5 in /usr/local/lib/python3.8/dist-packages (from python-dateutil>=2.7->matplotlib~=3.7.1->-r requirements.txt (line 5)) (1.16.0)\r\n",
      "Requirement already satisfied: mpmath>=0.19 in /usr/local/lib/python3.8/dist-packages (from sympy->torch>=1.3.0->-r requirements.txt (line 1)) (1.3.0)\r\n",
      "\u001B[33mWARNING: Running pip as the 'root' user can result in broken permissions and conflicting behaviour with the system package manager. It is recommended to use a virtual environment instead: https://pip.pypa.io/warnings/venv\u001B[0m\u001B[33m\r\n",
      "\u001B[0m\r\n",
      "\u001B[1m[\u001B[0m\u001B[34;49mnotice\u001B[0m\u001B[1;39;49m]\u001B[0m\u001B[39;49m A new release of pip is available: \u001B[0m\u001B[31;49m23.0.1\u001B[0m\u001B[39;49m -> \u001B[0m\u001B[32;49m23.1.2\u001B[0m\r\n",
      "\u001B[1m[\u001B[0m\u001B[34;49mnotice\u001B[0m\u001B[1;39;49m]\u001B[0m\u001B[39;49m To update, run: \u001B[0m\u001B[32;49mpython3 -m pip install --upgrade pip\u001B[0m\r\n"
     ]
    }
   ],
   "source": [
    "# Cloning loqui-ui into /tf\n",
    "%cd loqui\n",
    "! git pull\n",
    "! git checkout backend && git pull origin backend\n",
    "! git branch\n",
    "! pip install -r requirements.txt\n"
   ]
  },
  {
   "cell_type": "code",
   "execution_count": null,
   "outputs": [
    {
     "name": "stdout",
     "output_type": "stream",
     "text": [
      "loaded params/tot params:149/151\r\n",
      "miss matched params: ['v_cls.weight', 'v_cls.bias']\r\n",
      " * Serving Flask app 'app'\r\n",
      " * Debug mode: off\r\n",
      "\u001B[31m\u001B[1mWARNING: This is a development server. Do not use it in a production deployment. Use a production WSGI server instead.\u001B[0m\r\n",
      " * Running on all addresses (0.0.0.0)\r\n",
      " * Running on http://127.0.0.1:5000\r\n",
      " * Running on http://172.17.0.2:5000\r\n",
      "\u001B[33mPress CTRL+C to quit\u001B[0m\r\n"
     ]
    }
   ],
   "source": [
    "!python /tf/loqui/app.py\n"
   ],
   "metadata": {
    "collapsed": false,
    "pycharm": {
     "is_executing": true
    }
   }
  }
 ],
 "metadata": {
  "kernelspec": {
   "display_name": "Python 3",
   "language": "python",
   "name": "python3"
  },
  "language_info": {
   "codemirror_mode": {
    "name": "ipython",
    "version": 2
   },
   "file_extension": ".py",
   "mimetype": "text/x-python",
   "name": "python",
   "nbconvert_exporter": "python",
   "pygments_lexer": "ipython2",
   "version": "2.7.6"
  }
 },
 "nbformat": 4,
 "nbformat_minor": 0
}
