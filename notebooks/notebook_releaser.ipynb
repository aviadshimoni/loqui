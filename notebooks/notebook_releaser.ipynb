{
 "cells": [
  {
   "cell_type": "code",
   "execution_count": null,
   "id": "f44717f8",
   "metadata": {},
   "outputs": [],
   "source": [
    "# In some cases we may overload the outputs of a python notebook and would not be able to open it again\n",
    "# this function gets a notebook name and create a new notebook with no outputs"
   ]
  },
  {
   "cell_type": "code",
   "execution_count": 2,
   "id": "109950fb",
   "metadata": {},
   "outputs": [],
   "source": [
    "from nbformat import read, write\n",
    "\n",
    "def Remove_Output(Book):\n",
    "    for cell in Book.cells:\n",
    "        if hasattr(cell, \"outputs\"):\n",
    "            cell.outputs = []\n",
    "        if hasattr(cell, \"prompt_number\"):\n",
    "            del cell[\"prompt_number\"]\n",
    "\n",
    "Book= read(open(\"<WRITE THE BOOK NAME ON INPUT>.ipynb\"), 4)\n",
    "Remove_Output(Book)\n",
    "write(Book, open(\"<WRITE OUT PUT BOOK NAME>.ipynb\", \"w\"), 4)"
   ]
  },
  {
   "cell_type": "code",
   "execution_count": null,
   "id": "4b2ba682",
   "metadata": {},
   "outputs": [],
   "source": []
  }
 ],
 "metadata": {
  "kernelspec": {
   "display_name": "Python 3 (ipykernel)",
   "language": "python",
   "name": "python3"
  },
  "language_info": {
   "codemirror_mode": {
    "name": "ipython",
    "version": 3
   },
   "file_extension": ".py",
   "mimetype": "text/x-python",
   "name": "python",
   "nbconvert_exporter": "python",
   "pygments_lexer": "ipython3",
   "version": "3.8.10"
  }
 },
 "nbformat": 4,
 "nbformat_minor": 5
}
