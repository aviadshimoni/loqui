{
 "cells": [
  {
   "cell_type": "code",
   "execution_count": null,
   "outputs": [],
   "source": [
    "! apt-get install --assume-yes libturbojpeg libgl1-mesa-glx"
   ],
   "metadata": {
    "collapsed": false,
    "pycharm": {
     "name": "#%%\n"
    }
   }
  },
  {
   "cell_type": "code",
   "execution_count": null,
   "outputs": [],
   "source": [
    "!nvidia-smi\n",
    "import torch\n",
    "\n",
    "device = torch.device(\"cuda:0\")\n",
    "torch.cuda.device(device)\n",
    "torch.cuda.empty_cache()\n",
    "!nvidia-smi\n",
    "\n",
    "### Download pkl files containing ROIs"
   ],
   "metadata": {
    "collapsed": false,
    "pycharm": {
     "name": "#%%\n"
    }
   }
  },
  {
   "cell_type": "code",
   "execution_count": null,
   "outputs": [],
   "source": [
    "!pip install google-cloud-storage\n",
    "!mkdir -p /tf/rois"
   ],
   "metadata": {
    "collapsed": false,
    "pycharm": {
     "name": "#%%\n"
    }
   }
  },
  {
   "cell_type": "code",
   "execution_count": null,
   "outputs": [],
   "source": [
    "!mkdir -p /tf/rois\n",
    "!ls /tf/rois\n",
    "\n",
    "pkls_dirs = [\"ABOUT\", \"FOUND\", \"FRANCE\", \"FRENCH\", \"FRIDAY\", \"HEALTH\", \"HEART\", \"HEAVY\"]\n",
    "\n",
    "# Create the directory if it doesn't exist\n",
    "for pkl_dir in pkls_dirs:\n",
    "    os.makedirs(f'/tf/rois/lrw_roi_npy_gray_pkl_jpeg/{pkl_dir}/test/', exist_ok=True)\n",
    "    os.makedirs(f'/tf/rois/lrw_roi_npy_gray_pkl_jpeg/{pkl_dir}/train/', exist_ok=True)\n",
    "    os.makedirs(f'/tf/rois/lrw_roi_npy_gray_pkl_jpeg/{pkl_dir}/val/', exist_ok=True)"
   ],
   "metadata": {
    "collapsed": false,
    "pycharm": {
     "name": "#%%\n"
    }
   }
  },
  {
   "cell_type": "code",
   "execution_count": null,
   "outputs": [],
   "source": [
    "import os\n",
    "from google.cloud import storage\n",
    "\n",
    "os.environ[\"GOOGLE_APPLICATION_CREDENTIALS\"]=\"/tmp/service_account_key.json\"\n",
    "# Set the name of the bucket you want to download files from\n",
    "bucket_name = 'lrw-oxford-bbc'\n",
    "\n",
    "# Set the directory where you want to download the files\n",
    "download_dir = '/tf/rois'\n",
    "\n",
    "# Create a client object to interact with the Google Cloud Storage API\n",
    "client = storage.Client()\n",
    "\n",
    "# Get the bucket object you want to download files from\n",
    "bucket = client.get_bucket(bucket_name)\n",
    "\n",
    "# Get all the blobs (files) in the bucket\n",
    "blobs = bucket.list_blobs()\n",
    "\n",
    "# Iterate over each blob and download it to the specified directory\n",
    "for blob in blobs:\n",
    "    if \"ABOUT\" in blob.name:\n",
    "        continue\n",
    "\n",
    "    file_path = os.path.join(download_dir, blob.name)\n",
    "#     print(file_path)\n",
    "    blob.download_to_filename(file_path)\n",
    "\n",
    "    # Print a message for each downloaded file\n",
    "    print(f'Downloaded {blob.name} to {file_path}')"
   ],
   "metadata": {
    "collapsed": false,
    "pycharm": {
     "name": "#%%\n"
    }
   }
  },
  {
   "cell_type": "code",
   "execution_count": null,
   "outputs": [],
   "source": [
    "%cd loqui\n",
    "! pip install -r requirements.txt"
   ],
   "metadata": {
    "collapsed": false,
    "pycharm": {
     "name": "#%%\n"
    }
   }
  },
  {
   "cell_type": "code",
   "execution_count": null,
   "outputs": [],
   "source": [
    "!git pull && git checkout train_jupyter_crap && git pull origin train_jupyter_crap"
   ],
   "metadata": {
    "collapsed": false,
    "pycharm": {
     "name": "#%%\n"
    }
   }
  },
  {
   "cell_type": "code",
   "execution_count": null,
   "outputs": [],
   "source": [
    "!cat model/model_validation.py"
   ],
   "metadata": {
    "collapsed": false,
    "pycharm": {
     "name": "#%%\n"
    }
   }
  },
  {
   "cell_type": "code",
   "execution_count": null,
   "outputs": [],
   "source": [
    "# clearning cache\n",
    "import torch\n",
    "torch.cuda.empty_cache()\n",
    "!pwd"
   ],
   "metadata": {
    "collapsed": false,
    "pycharm": {
     "name": "#%%\n"
    }
   }
  },
  {
   "cell_type": "code",
   "execution_count": null,
   "outputs": [],
   "source": [
    "from model.model_train import train\n",
    "train(batch_size=32, num_workers=1, learning_rate=3e-4, epochs=120, n_classes=8)"
   ],
   "metadata": {
    "collapsed": false,
    "pycharm": {
     "name": "#%%\n"
    }
   }
  },
  {
   "cell_type": "code",
   "execution_count": null,
   "outputs": [],
   "source": [
    "!nvidia-smi\n",
    "!nvidia-smi --gpu-reset"
   ],
   "metadata": {
    "collapsed": false,
    "pycharm": {
     "name": "#%%\n"
    }
   }
  }
 ],
 "metadata": {
  "kernelspec": {
   "display_name": "Python 3",
   "language": "python",
   "name": "python3"
  },
  "language_info": {
   "codemirror_mode": {
    "name": "ipython",
    "version": 2
   },
   "file_extension": ".py",
   "mimetype": "text/x-python",
   "name": "python",
   "nbconvert_exporter": "python",
   "pygments_lexer": "ipython2",
   "version": "2.7.6"
  },
  "pycharm": {
   "stem_cell": {
    "cell_type": "raw",
    "source": [
     "### Install dependecies\n"
    ],
    "metadata": {
     "collapsed": false
    }
   }
  }
 },
 "nbformat": 4,
 "nbformat_minor": 0
}