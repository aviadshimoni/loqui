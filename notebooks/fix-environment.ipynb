{
 "cells": [
  {
   "cell_type": "code",
   "execution_count": 4,
   "outputs": [
    {
     "name": "stdout",
     "output_type": "stream",
     "text": [
      "Cloning into 'loqui'...\r\n",
      "remote: Enumerating objects: 289, done.\u001B[K\r\n",
      "remote: Counting objects: 100% (289/289), done.\u001B[K\r\n",
      "remote: Compressing objects: 100% (200/200), done.\u001B[K\r\n",
      "remote: Total 289 (delta 144), reused 214 (delta 82), pack-reused 0\u001B[Kects:  33% (96/289), 1.90 MiB | 1.74 MiB/sReceiving objects:  41% (121/289), 4.02 MiB | 1.83 MiB/sReceiving objects:  42% (122/289), 6.11 MiB | 1.87 MiB/sReceiving objects:  48% (139/289), 7.01 MiB | 1.86 MiB/s\r\n",
      "Receiving objects: 100% (289/289), 7.25 MiB | 1.87 MiB/s, done.\r\n",
      "Resolving deltas: 100% (144/144), done.\r\n"
     ]
    }
   ],
   "source": [
    "!git clone https://github.com/aviadshimoni/loqui.git"
   ],
   "metadata": {
    "collapsed": false
   }
  },
  {
   "cell_type": "code",
   "execution_count": 5,
   "outputs": [],
   "source": [
    "!cp -r loqui_daniel/lrw_roi_npy_gray_pkl_jpeg loqui"
   ],
   "metadata": {
    "collapsed": false
   }
  },
  {
   "cell_type": "code",
   "execution_count": null,
   "outputs": [],
   "source": [
    "!rm -rf loqui-refactor2"
   ],
   "metadata": {
    "collapsed": false
   }
  }
 ],
 "metadata": {
  "kernelspec": {
   "display_name": "Python 3",
   "language": "python",
   "name": "python3"
  },
  "language_info": {
   "codemirror_mode": {
    "name": "ipython",
    "version": 2
   },
   "file_extension": ".py",
   "mimetype": "text/x-python",
   "name": "python",
   "nbconvert_exporter": "python",
   "pygments_lexer": "ipython2",
   "version": "2.7.6"
  }
 },
 "nbformat": 4,
 "nbformat_minor": 0
}
