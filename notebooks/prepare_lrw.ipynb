{
 "cells": [
  {
   "cell_type": "code",
   "execution_count": 48,
   "outputs": [],
   "source": [
    "!rm -rf /tf/loqui/custom_lipread_pkls"
   ],
   "metadata": {
    "collapsed": false
   }
  },
  {
   "cell_type": "code",
   "execution_count": 47,
   "outputs": [
    {
     "name": "stdout",
     "output_type": "stream",
     "text": [
      "3363\r\n"
     ]
    }
   ],
   "source": [
    "!tree /tf/loqui/custom_lipread_pkls | wc -l"
   ],
   "metadata": {
    "collapsed": false
   }
  },
  {
   "cell_type": "code",
   "execution_count": 51,
   "metadata": {
    "collapsed": true
   },
   "outputs": [
    {
     "name": "stdout",
     "output_type": "stream",
     "text": [
      "[Errno 2] No such file or directory: 'loqui'\n",
      "/tf/loqui\n",
      "remote: Enumerating objects: 6, done.\u001B[K\r\n",
      "remote: Counting objects: 100% (6/6), done.\u001B[K\r\n",
      "remote: Compressing objects: 100% (2/2), done.\u001B[K\r\n",
      "remote: Total 6 (delta 4), reused 6 (delta 4), pack-reused 0\u001B[K\r\n",
      "Unpacking objects: 100% (6/6), 2.78 KiB | 2.78 MiB/s, done.\r\n",
      "From https://github.com/aviadshimoni/loqui\r\n",
      "   4c7f9d6..e3ac004  prepare-lrw-handle-all-videos -> origin/prepare-lrw-handle-all-videos\r\n",
      "Updating 4c7f9d6..e3ac004\r\n",
      "Fast-forward\r\n",
      " notebooks/prepare_lrw.ipynb              | 24950 \u001B[32m+\u001B[m\u001B[31m----------------------------\u001B[m\r\n",
      " scripts/prepare_lrw_original_modified.py |     2 \u001B[32m+\u001B[m\u001B[31m-\u001B[m\r\n",
      " 2 files changed, 61 insertions(+), 24891 deletions(-)\r\n",
      "Already on 'prepare-lrw-handle-all-videos'\r\n",
      "Your branch is up to date with 'origin/prepare-lrw-handle-all-videos'.\r\n",
      "From https://github.com/aviadshimoni/loqui\r\n",
      " * branch            prepare-lrw-handle-all-videos -> FETCH_HEAD\r\n",
      "Already up to date.\r\n"
     ]
    }
   ],
   "source": [
    "%cd loqui\n",
    "!git pull\n",
    "!git checkout prepare-lrw-handle-all-videos && git pull origin prepare-lrw-handle-all-videos\n"
   ]
  },
  {
   "cell_type": "code",
   "execution_count": 52,
   "outputs": [
    {
     "name": "stdout",
     "output_type": "stream",
     "text": [
      "  aviad/increase-batch-size\u001B[m\r\n",
      "  avivs_experiments_20230527\u001B[m\r\n",
      "  main\u001B[m\r\n",
      "  new-mp4-train\u001B[m\r\n",
      "  prepare-all-videos\u001B[m\r\n",
      "* \u001B[32mprepare-lrw-handle-all-videos\u001B[m\r\n",
      "  print\u001B[m\r\n",
      "Requirement already satisfied: torch>=1.3.0 in /usr/local/lib/python3.8/dist-packages (from -r requirements.txt (line 1)) (2.0.1)\r\n",
      "Requirement already satisfied: numpy>=1.16.4 in /usr/local/lib/python3.8/dist-packages (from -r requirements.txt (line 2)) (1.24.3)\r\n",
      "Requirement already satisfied: opencv-python>=4.1.0 in /usr/local/lib/python3.8/dist-packages (from -r requirements.txt (line 3)) (4.7.0.72)\r\n",
      "Requirement already satisfied: PyTurboJPEG in /usr/local/lib/python3.8/dist-packages (from -r requirements.txt (line 4)) (1.7.1)\r\n",
      "Requirement already satisfied: matplotlib~=3.7.1 in /usr/local/lib/python3.8/dist-packages (from -r requirements.txt (line 5)) (3.7.1)\r\n",
      "Requirement already satisfied: moviepy in /usr/local/lib/python3.8/dist-packages (from -r requirements.txt (line 6)) (1.0.3)\r\n",
      "\u001B[31mERROR: Could not find a version that satisfies the requirement codecs (from versions: none)\u001B[0m\u001B[31m\r\n",
      "\u001B[0m\u001B[31mERROR: No matching distribution found for codecs\u001B[0m\u001B[31m\r\n",
      "\u001B[0m\r\n",
      "\u001B[1m[\u001B[0m\u001B[34;49mnotice\u001B[0m\u001B[1;39;49m]\u001B[0m\u001B[39;49m A new release of pip is available: \u001B[0m\u001B[31;49m23.0.1\u001B[0m\u001B[39;49m -> \u001B[0m\u001B[32;49m23.1.2\u001B[0m\r\n",
      "\u001B[1m[\u001B[0m\u001B[34;49mnotice\u001B[0m\u001B[1;39;49m]\u001B[0m\u001B[39;49m To update, run: \u001B[0m\u001B[32;49mpython3 -m pip install --upgrade pip\u001B[0m\r\n",
      "/usr/local/lib/python3.8/dist-packages/torch/utils/data/dataloader.py:560: UserWarning: This DataLoader will create 16 worker processes in total. Our suggested max number of worker in current system is 12, which is smaller than what this DataLoader is going to create. Please be aware that excessive worker creation might get DataLoader running slow or even freeze, lower the worker number to avoid potential slowness/freeze if necessary.\r\n",
      "  warnings.warn(_create_warning_msg(\r\n",
      "eta:0.03773\r\n",
      "eta:0.01833\r\n",
      "eta:0.01186\r\n",
      "eta:0.00863\r\n",
      "eta:0.00669\r\n",
      "eta:0.00539\r\n",
      "eta:0.00447\r\n",
      "eta:0.00378\r\n",
      "eta:0.00324\r\n",
      "eta:0.00281\r\n",
      "Traceback (most recent call last):\r\n",
      "  File \"/tf/loqui/scripts/prepare_lrw_original_modified.py\", line 122, in <module>\r\n",
      "    for i, batch in enumerate(loader):\r\n",
      "  File \"/usr/local/lib/python3.8/dist-packages/torch/utils/data/dataloader.py\", line 633, in __next__\r\n",
      "    data = self._next_data()\r\n",
      "  File \"/usr/local/lib/python3.8/dist-packages/torch/utils/data/dataloader.py\", line 1345, in _next_data\r\n",
      "    return self._process_data(data)\r\n",
      "  File \"/usr/local/lib/python3.8/dist-packages/torch/utils/data/dataloader.py\", line 1371, in _process_data\r\n",
      "    data.reraise()\r\n",
      "  File \"/usr/local/lib/python3.8/dist-packages/torch/_utils.py\", line 644, in reraise\r\n",
      "    raise exception\r\n",
      "IndexError: Caught IndexError in DataLoader worker process 10.\r\n",
      "Original Traceback (most recent call last):\r\n",
      "  File \"/usr/local/lib/python3.8/dist-packages/torch/utils/data/_utils/worker.py\", line 308, in _worker_loop\r\n",
      "    data = fetcher.fetch(index)\r\n",
      "  File \"/usr/local/lib/python3.8/dist-packages/torch/utils/data/_utils/fetch.py\", line 51, in fetch\r\n",
      "    data = [self.dataset[idx] for idx in possibly_batched_index]\r\n",
      "  File \"/usr/local/lib/python3.8/dist-packages/torch/utils/data/_utils/fetch.py\", line 51, in <listcomp>\r\n",
      "    data = [self.dataset[idx] for idx in possibly_batched_index]\r\n",
      "  File \"/tf/loqui/scripts/prepare_lrw_original_modified.py\", line 65, in __getitem__\r\n",
      "    result['duration'] = self.generate_duration(inputs)\r\n",
      "  File \"/tf/loqui/scripts/prepare_lrw_original_modified.py\", line 82, in generate_duration\r\n",
      "    duration[frame_indices] = True\r\n",
      "IndexError: index 29 is out of bounds for axis 0 with size 29\r\n",
      "\r\n"
     ]
    }
   ],
   "source": [
    "!git branch\n",
    "!pip install -r requirements.txt\n",
    "!python /tf/loqui/scripts/prepare_lrw_original_modified.py"
   ],
   "metadata": {
    "collapsed": false
   }
  },
  {
   "cell_type": "code",
   "execution_count": 22,
   "outputs": [
    {
     "name": "stdout",
     "output_type": "stream",
     "text": [
      "Copied test and val directories for word: ACTION\r\n",
      "Copied test and val directories for word: AGAIN\r\n",
      "Copied test and val directories for word: FRIDAY\r\n",
      "Copied test and val directories for word: LEADERSHIP\r\n",
      "cp: cannot stat '/tf/loqui/lrw_roi_npy_gray_pkl_jpeg/MOVING/test': No such file or directory\r\n",
      "cp: cannot stat '/tf/loqui/lrw_roi_npy_gray_pkl_jpeg/MOVING/val': No such file or directory\r\n",
      "Copied test and val directories for word: MOVING\r\n"
     ]
    }
   ],
   "source": [
    "! chmod +x /tf/copy-test-val.sh\n",
    "! /tf/copy-test-val.sh"
   ],
   "metadata": {
    "collapsed": false
   }
  },
  {
   "cell_type": "code",
   "execution_count": 26,
   "outputs": [],
   "source": [
    "#!cp /tf/loqui/lrw_roi_npy_gray_pkl_jpeg/MOVING/train/* /tf/loqui/custom_lipread_pkls/LEADERSHIP/train"
   ],
   "metadata": {
    "collapsed": false
   }
  }
 ],
 "metadata": {
  "kernelspec": {
   "display_name": "Python 3",
   "language": "python",
   "name": "python3"
  },
  "language_info": {
   "codemirror_mode": {
    "name": "ipython",
    "version": 2
   },
   "file_extension": ".py",
   "mimetype": "text/x-python",
   "name": "python",
   "nbconvert_exporter": "python",
   "pygments_lexer": "ipython2",
   "version": "2.7.6"
  }
 },
 "nbformat": 4,
 "nbformat_minor": 0
}
