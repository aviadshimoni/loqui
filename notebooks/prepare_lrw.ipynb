{
 "cells": [
  {
   "cell_type": "code",
   "execution_count": 48,
   "outputs": [],
   "source": [
    "!rm -rf /tf/loqui/custom_lipread_pkls"
   ],
   "metadata": {
    "collapsed": false
   }
  },
  {
   "cell_type": "code",
   "execution_count": 47,
   "outputs": [
    {
     "name": "stdout",
     "output_type": "stream",
     "text": [
      "3363\r\n"
     ]
    }
   ],
   "source": [
    "!tree /tf/loqui/custom_lipread_pkls | wc -l"
   ],
   "metadata": {
    "collapsed": false
   }
  },
  {
   "cell_type": "code",
   "execution_count": 64,
   "metadata": {
    "collapsed": true
   },
   "outputs": [
    {
     "name": "stdout",
     "output_type": "stream",
     "text": [
      "[Errno 2] No such file or directory: 'loqui'\n",
      "/tf/loqui\n",
      "Already on 'prepare-lrw-handle-all-videos'\r\n",
      "Your branch is up to date with 'origin/prepare-lrw-handle-all-videos'.\r\n",
      "remote: Enumerating objects: 6, done.\u001B[K\r\n",
      "remote: Counting objects: 100% (6/6), done.\u001B[K\r\n",
      "remote: Total 6 (delta 5), reused 6 (delta 5), pack-reused 0\u001B[K\r\n",
      "Unpacking objects: 100% (6/6), 1.05 KiB | 1.05 MiB/s, done.\r\n",
      "From https://github.com/aviadshimoni/loqui\r\n",
      " * branch            prepare-lrw-handle-all-videos -> FETCH_HEAD\r\n",
      "   3d0194a..9b7c9aa  prepare-lrw-handle-all-videos -> origin/prepare-lrw-handle-all-videos\r\n",
      "Updating 3d0194a..9b7c9aa\r\n",
      "Fast-forward\r\n",
      " notebooks/prepare_lrw.ipynb              | 91 \u001B[32m++++++++++++++\u001B[m\u001B[31m------------------\u001B[m\r\n",
      " scripts/prepare_lrw_original_modified.py | 14 \u001B[32m+++\u001B[m\u001B[31m--\u001B[m\r\n",
      " 2 files changed, 51 insertions(+), 54 deletions(-)\r\n"
     ]
    }
   ],
   "source": [
    "%cd loqui\n",
    "!git checkout prepare-lrw-handle-all-videos && git pull origin prepare-lrw-handle-all-videos\n"
   ]
  },
  {
   "cell_type": "code",
   "execution_count": 65,
   "outputs": [
    {
     "name": "stdout",
     "output_type": "stream",
     "text": [
      "  aviad/increase-batch-size\u001B[m\r\n",
      "  avivs_experiments_20230527\u001B[m\r\n",
      "  main\u001B[m\r\n",
      "  new-mp4-train\u001B[m\r\n",
      "  prepare-all-videos\u001B[m\r\n",
      "* \u001B[32mprepare-lrw-handle-all-videos\u001B[m\r\n",
      "  print\u001B[m\r\n",
      "Requirement already satisfied: torch>=1.3.0 in /usr/local/lib/python3.8/dist-packages (from -r requirements.txt (line 1)) (2.0.1)\r\n",
      "Requirement already satisfied: numpy>=1.16.4 in /usr/local/lib/python3.8/dist-packages (from -r requirements.txt (line 2)) (1.24.3)\r\n",
      "Requirement already satisfied: opencv-python>=4.1.0 in /usr/local/lib/python3.8/dist-packages (from -r requirements.txt (line 3)) (4.7.0.72)\r\n",
      "Requirement already satisfied: PyTurboJPEG in /usr/local/lib/python3.8/dist-packages (from -r requirements.txt (line 4)) (1.7.1)\r\n",
      "Requirement already satisfied: matplotlib~=3.7.1 in /usr/local/lib/python3.8/dist-packages (from -r requirements.txt (line 5)) (3.7.1)\r\n",
      "Requirement already satisfied: moviepy in /usr/local/lib/python3.8/dist-packages (from -r requirements.txt (line 6)) (1.0.3)\r\n",
      "Requirement already satisfied: nvidia-cusparse-cu11==11.7.4.91 in /usr/local/lib/python3.8/dist-packages (from torch>=1.3.0->-r requirements.txt (line 1)) (11.7.4.91)\r\n",
      "Requirement already satisfied: nvidia-cudnn-cu11==8.5.0.96 in /usr/local/lib/python3.8/dist-packages (from torch>=1.3.0->-r requirements.txt (line 1)) (8.5.0.96)\r\n",
      "Requirement already satisfied: filelock in /usr/local/lib/python3.8/dist-packages (from torch>=1.3.0->-r requirements.txt (line 1)) (3.12.0)\r\n",
      "Requirement already satisfied: nvidia-cublas-cu11==11.10.3.66 in /usr/local/lib/python3.8/dist-packages (from torch>=1.3.0->-r requirements.txt (line 1)) (11.10.3.66)\r\n",
      "Requirement already satisfied: nvidia-nccl-cu11==2.14.3 in /usr/local/lib/python3.8/dist-packages (from torch>=1.3.0->-r requirements.txt (line 1)) (2.14.3)\r\n",
      "Requirement already satisfied: nvidia-nvtx-cu11==11.7.91 in /usr/local/lib/python3.8/dist-packages (from torch>=1.3.0->-r requirements.txt (line 1)) (11.7.91)\r\n",
      "Requirement already satisfied: nvidia-cufft-cu11==10.9.0.58 in /usr/local/lib/python3.8/dist-packages (from torch>=1.3.0->-r requirements.txt (line 1)) (10.9.0.58)\r\n",
      "Requirement already satisfied: nvidia-cuda-runtime-cu11==11.7.99 in /usr/local/lib/python3.8/dist-packages (from torch>=1.3.0->-r requirements.txt (line 1)) (11.7.99)\r\n",
      "Requirement already satisfied: nvidia-cuda-nvrtc-cu11==11.7.99 in /usr/local/lib/python3.8/dist-packages (from torch>=1.3.0->-r requirements.txt (line 1)) (11.7.99)\r\n",
      "Requirement already satisfied: nvidia-curand-cu11==10.2.10.91 in /usr/local/lib/python3.8/dist-packages (from torch>=1.3.0->-r requirements.txt (line 1)) (10.2.10.91)\r\n",
      "Requirement already satisfied: nvidia-cusolver-cu11==11.4.0.1 in /usr/local/lib/python3.8/dist-packages (from torch>=1.3.0->-r requirements.txt (line 1)) (11.4.0.1)\r\n",
      "Requirement already satisfied: networkx in /usr/local/lib/python3.8/dist-packages (from torch>=1.3.0->-r requirements.txt (line 1)) (3.1)\r\n",
      "Requirement already satisfied: nvidia-cuda-cupti-cu11==11.7.101 in /usr/local/lib/python3.8/dist-packages (from torch>=1.3.0->-r requirements.txt (line 1)) (11.7.101)\r\n",
      "Requirement already satisfied: sympy in /usr/local/lib/python3.8/dist-packages (from torch>=1.3.0->-r requirements.txt (line 1)) (1.12)\r\n",
      "Requirement already satisfied: typing-extensions in /usr/local/lib/python3.8/dist-packages (from torch>=1.3.0->-r requirements.txt (line 1)) (4.6.1)\r\n",
      "Requirement already satisfied: triton==2.0.0 in /usr/local/lib/python3.8/dist-packages (from torch>=1.3.0->-r requirements.txt (line 1)) (2.0.0)\r\n",
      "Requirement already satisfied: jinja2 in /usr/local/lib/python3.8/dist-packages (from torch>=1.3.0->-r requirements.txt (line 1)) (3.1.2)\r\n",
      "Requirement already satisfied: setuptools in /usr/local/lib/python3.8/dist-packages (from nvidia-cublas-cu11==11.10.3.66->torch>=1.3.0->-r requirements.txt (line 1)) (67.6.0)\r\n",
      "Requirement already satisfied: wheel in /usr/local/lib/python3.8/dist-packages (from nvidia-cublas-cu11==11.10.3.66->torch>=1.3.0->-r requirements.txt (line 1)) (0.40.0)\r\n",
      "Requirement already satisfied: lit in /usr/local/lib/python3.8/dist-packages (from triton==2.0.0->torch>=1.3.0->-r requirements.txt (line 1)) (16.0.2)\r\n",
      "Requirement already satisfied: cmake in /usr/local/lib/python3.8/dist-packages (from triton==2.0.0->torch>=1.3.0->-r requirements.txt (line 1)) (3.26.3)\r\n",
      "Requirement already satisfied: cycler>=0.10 in /usr/local/lib/python3.8/dist-packages (from matplotlib~=3.7.1->-r requirements.txt (line 5)) (0.11.0)\r\n",
      "Requirement already satisfied: importlib-resources>=3.2.0 in /usr/local/lib/python3.8/dist-packages (from matplotlib~=3.7.1->-r requirements.txt (line 5)) (5.12.0)\r\n",
      "Requirement already satisfied: contourpy>=1.0.1 in /usr/local/lib/python3.8/dist-packages (from matplotlib~=3.7.1->-r requirements.txt (line 5)) (1.0.7)\r\n",
      "Requirement already satisfied: pyparsing>=2.3.1 in /usr/local/lib/python3.8/dist-packages (from matplotlib~=3.7.1->-r requirements.txt (line 5)) (3.0.9)\r\n",
      "Requirement already satisfied: packaging>=20.0 in /usr/local/lib/python3.8/dist-packages (from matplotlib~=3.7.1->-r requirements.txt (line 5)) (23.1)\r\n",
      "Requirement already satisfied: pillow>=6.2.0 in /usr/local/lib/python3.8/dist-packages (from matplotlib~=3.7.1->-r requirements.txt (line 5)) (9.5.0)\r\n",
      "Requirement already satisfied: fonttools>=4.22.0 in /usr/local/lib/python3.8/dist-packages (from matplotlib~=3.7.1->-r requirements.txt (line 5)) (4.39.4)\r\n",
      "Requirement already satisfied: python-dateutil>=2.7 in /usr/local/lib/python3.8/dist-packages (from matplotlib~=3.7.1->-r requirements.txt (line 5)) (2.8.2)\r\n",
      "Requirement already satisfied: kiwisolver>=1.0.1 in /usr/local/lib/python3.8/dist-packages (from matplotlib~=3.7.1->-r requirements.txt (line 5)) (1.4.4)\r\n",
      "Requirement already satisfied: imageio<3.0,>=2.5 in /usr/local/lib/python3.8/dist-packages (from moviepy->-r requirements.txt (line 6)) (2.29.0)\r\n",
      "Requirement already satisfied: proglog<=1.0.0 in /usr/local/lib/python3.8/dist-packages (from moviepy->-r requirements.txt (line 6)) (0.1.10)\r\n",
      "Requirement already satisfied: decorator<5.0,>=4.0.2 in /usr/local/lib/python3.8/dist-packages (from moviepy->-r requirements.txt (line 6)) (4.4.2)\r\n",
      "Requirement already satisfied: requests<3.0,>=2.8.1 in /usr/lib/python3/dist-packages (from moviepy->-r requirements.txt (line 6)) (2.22.0)\r\n",
      "Requirement already satisfied: imageio-ffmpeg>=0.2.0 in /usr/local/lib/python3.8/dist-packages (from moviepy->-r requirements.txt (line 6)) (0.4.8)\r\n",
      "Requirement already satisfied: tqdm<5.0,>=4.11.2 in /usr/local/lib/python3.8/dist-packages (from moviepy->-r requirements.txt (line 6)) (4.65.0)\r\n",
      "Requirement already satisfied: zipp>=3.1.0 in /usr/local/lib/python3.8/dist-packages (from importlib-resources>=3.2.0->matplotlib~=3.7.1->-r requirements.txt (line 5)) (3.15.0)\r\n",
      "Requirement already satisfied: six>=1.5 in /usr/local/lib/python3.8/dist-packages (from python-dateutil>=2.7->matplotlib~=3.7.1->-r requirements.txt (line 5)) (1.16.0)\r\n",
      "Requirement already satisfied: MarkupSafe>=2.0 in /usr/local/lib/python3.8/dist-packages (from jinja2->torch>=1.3.0->-r requirements.txt (line 1)) (2.1.2)\r\n",
      "Requirement already satisfied: mpmath>=0.19 in /usr/local/lib/python3.8/dist-packages (from sympy->torch>=1.3.0->-r requirements.txt (line 1)) (1.3.0)\r\n",
      "\u001B[33mWARNING: Running pip as the 'root' user can result in broken permissions and conflicting behaviour with the system package manager. It is recommended to use a virtual environment instead: https://pip.pypa.io/warnings/venv\u001B[0m\u001B[33m\r\n",
      "\u001B[0m\r\n",
      "\u001B[1m[\u001B[0m\u001B[34;49mnotice\u001B[0m\u001B[1;39;49m]\u001B[0m\u001B[39;49m A new release of pip is available: \u001B[0m\u001B[31;49m23.0.1\u001B[0m\u001B[39;49m -> \u001B[0m\u001B[32;49m23.1.2\u001B[0m\r\n",
      "\u001B[1m[\u001B[0m\u001B[34;49mnotice\u001B[0m\u001B[1;39;49m]\u001B[0m\u001B[39;49m To update, run: \u001B[0m\u001B[32;49mpython3 -m pip install --upgrade pip\u001B[0m\r\n",
      "eta:0.00843\r\n",
      "eta:0.00414\r\n",
      "eta:0.00495\r\n",
      "eta:0.00362\r\n",
      "eta:0.00410\r\n",
      "eta:0.00332\r\n",
      "eta:0.00362\r\n",
      "eta:0.00306\r\n",
      "eta:0.00326\r\n",
      "eta:0.00284\r\n",
      "Error processing video: /tf/Daniel/custom_lipread_mp4/ACTION/train/ACTION_01007.mp4\r\n",
      "Error message: index 29 is out of bounds for axis 0 with size 29\r\n",
      "Error processing video: /tf/Daniel/custom_lipread_mp4/ACTION/train/ACTION_01008.mp4\r\n",
      "Error message: index 29 is out of bounds for axis 0 with size 29\r\n",
      "Error processing video: /tf/Daniel/custom_lipread_mp4/ACTION/train/ACTION_01009.mp4\r\n",
      "Error message: index 29 is out of bounds for axis 0 with size 29\r\n",
      "Error processing video: /tf/Daniel/custom_lipread_mp4/ACTION/train/ACTION_01010.mp4\r\n",
      "Error message: index 30 is out of bounds for axis 0 with size 29\r\n",
      "Error processing video: /tf/Daniel/custom_lipread_mp4/ACTION/train/ACTION_01011.mp4\r\n",
      "Error message: index 29 is out of bounds for axis 0 with size 29\r\n",
      "Error processing video: /tf/Daniel/custom_lipread_mp4/ACTION/train/ACTION_01012.mp4\r\n",
      "Error message: index 29 is out of bounds for axis 0 with size 29\r\n",
      "Error processing video: /tf/Daniel/custom_lipread_mp4/ACTION/train/ACTION_01013.mp4\r\n",
      "Error message: index 29 is out of bounds for axis 0 with size 29\r\n",
      "Error processing video: /tf/Daniel/custom_lipread_mp4/ACTION/train/ACTION_01014.mp4\r\n",
      "Error message: index 29 is out of bounds for axis 0 with size 29\r\n",
      "Error processing video: /tf/Daniel/custom_lipread_mp4/ACTION/train/ACTION_01015.mp4\r\n",
      "Error message: index 29 is out of bounds for axis 0 with size 29\r\n",
      "Error processing video: /tf/Daniel/custom_lipread_mp4/ACTION/train/ACTION_01016.mp4\r\n",
      "Error message: index 30 is out of bounds for axis 0 with size 29\r\n",
      "Error processing video: /tf/Daniel/custom_lipread_mp4/ACTION/train/ACTION_01017.mp4\r\n",
      "Error message: index 30 is out of bounds for axis 0 with size 29\r\n",
      "Error processing video: /tf/Daniel/custom_lipread_mp4/ACTION/train/ACTION_01018.mp4\r\n",
      "Error message: index 31 is out of bounds for axis 0 with size 29\r\n",
      "Error processing video: /tf/Daniel/custom_lipread_mp4/ACTION/train/ACTION_01001.mp4\r\n",
      "Error message: index 29 is out of bounds for axis 0 with size 29\r\n",
      "Error processing video: /tf/Daniel/custom_lipread_mp4/ACTION/train/ACTION_01002.mp4\r\n",
      "Error message: index 30 is out of bounds for axis 0 with size 29\r\n",
      "Error processing video: /tf/Daniel/custom_lipread_mp4/ACTION/train/ACTION_01003.mp4\r\n",
      "Error message: index 29 is out of bounds for axis 0 with size 29\r\n",
      "Error processing video: /tf/Daniel/custom_lipread_mp4/ACTION/train/ACTION_01006.mp4\r\n",
      "Error message: index 29 is out of bounds for axis 0 with size 29\r\n",
      "Traceback (most recent call last):\r\n",
      "  File \"/tf/loqui/scripts/prepare_lrw_original_modified.py\", line 135, in <module>\r\n",
      "    for i, batch in enumerate(loader):\r\n",
      "  File \"/usr/local/lib/python3.8/dist-packages/torch/utils/data/dataloader.py\", line 633, in __next__\r\n",
      "    data = self._next_data()\r\n",
      "  File \"/usr/local/lib/python3.8/dist-packages/torch/utils/data/dataloader.py\", line 1345, in _next_data\r\n",
      "    return self._process_data(data)\r\n",
      "  File \"/usr/local/lib/python3.8/dist-packages/torch/utils/data/dataloader.py\", line 1371, in _process_data\r\n",
      "    data.reraise()\r\n",
      "  File \"/usr/local/lib/python3.8/dist-packages/torch/_utils.py\", line 644, in reraise\r\n",
      "    raise exception\r\n",
      "TypeError: Caught TypeError in DataLoader worker process 0.\r\n",
      "Original Traceback (most recent call last):\r\n",
      "  File \"/usr/local/lib/python3.8/dist-packages/torch/utils/data/_utils/collate.py\", line 127, in collate\r\n",
      "    return elem_type({key: collate([d[key] for d in batch], collate_fn_map=collate_fn_map) for key in elem})\r\n",
      "  File \"/usr/local/lib/python3.8/dist-packages/torch/utils/data/_utils/collate.py\", line 127, in <dictcomp>\r\n",
      "    return elem_type({key: collate([d[key] for d in batch], collate_fn_map=collate_fn_map) for key in elem})\r\n",
      "  File \"/usr/local/lib/python3.8/dist-packages/torch/utils/data/_utils/collate.py\", line 127, in <listcomp>\r\n",
      "    return elem_type({key: collate([d[key] for d in batch], collate_fn_map=collate_fn_map) for key in elem})\r\n",
      "TypeError: 'NoneType' object is not subscriptable\r\n",
      "\r\n",
      "During handling of the above exception, another exception occurred:\r\n",
      "\r\n",
      "Traceback (most recent call last):\r\n",
      "  File \"/usr/local/lib/python3.8/dist-packages/torch/utils/data/_utils/worker.py\", line 308, in _worker_loop\r\n",
      "    data = fetcher.fetch(index)\r\n",
      "  File \"/usr/local/lib/python3.8/dist-packages/torch/utils/data/_utils/fetch.py\", line 54, in fetch\r\n",
      "    return self.collate_fn(data)\r\n",
      "  File \"/usr/local/lib/python3.8/dist-packages/torch/utils/data/_utils/collate.py\", line 265, in default_collate\r\n",
      "    return collate(batch, collate_fn_map=default_collate_fn_map)\r\n",
      "  File \"/usr/local/lib/python3.8/dist-packages/torch/utils/data/_utils/collate.py\", line 130, in collate\r\n",
      "    return {key: collate([d[key] for d in batch], collate_fn_map=collate_fn_map) for key in elem}\r\n",
      "  File \"/usr/local/lib/python3.8/dist-packages/torch/utils/data/_utils/collate.py\", line 130, in <dictcomp>\r\n",
      "    return {key: collate([d[key] for d in batch], collate_fn_map=collate_fn_map) for key in elem}\r\n",
      "  File \"/usr/local/lib/python3.8/dist-packages/torch/utils/data/_utils/collate.py\", line 130, in <listcomp>\r\n",
      "    return {key: collate([d[key] for d in batch], collate_fn_map=collate_fn_map) for key in elem}\r\n",
      "TypeError: 'NoneType' object is not subscriptable\r\n",
      "\r\n"
     ]
    }
   ],
   "source": [
    "!git branch\n",
    "!pip install -r requirements.txt\n",
    "!python /tf/loqui/scripts/prepare_lrw_original_modified.py"
   ],
   "metadata": {
    "collapsed": false
   }
  },
  {
   "cell_type": "code",
   "execution_count": 22,
   "outputs": [
    {
     "name": "stdout",
     "output_type": "stream",
     "text": [
      "Copied test and val directories for word: ACTION\r\n",
      "Copied test and val directories for word: AGAIN\r\n",
      "Copied test and val directories for word: FRIDAY\r\n",
      "Copied test and val directories for word: LEADERSHIP\r\n",
      "cp: cannot stat '/tf/loqui/lrw_roi_npy_gray_pkl_jpeg/MOVING/test': No such file or directory\r\n",
      "cp: cannot stat '/tf/loqui/lrw_roi_npy_gray_pkl_jpeg/MOVING/val': No such file or directory\r\n",
      "Copied test and val directories for word: MOVING\r\n"
     ]
    }
   ],
   "source": [
    "# ! chmod +x /tf/copy-test-val.sh\n",
    "# ! /tf/copy-test-val.sh"
   ],
   "metadata": {
    "collapsed": false
   }
  },
  {
   "cell_type": "code",
   "execution_count": 61,
   "outputs": [
    {
     "name": "stdout",
     "output_type": "stream",
     "text": [
      "rm: cannot remove '/tf/Daniel/custom_lipread_mp4/MOVING/test/*.pkl': No such file or directory\r\n"
     ]
    }
   ],
   "source": [
    "!rm /tf/Daniel/custom_lipread_mp4/MOVING/test/*.pkl"
   ],
   "metadata": {
    "collapsed": false
   }
  },
  {
   "cell_type": "code",
   "execution_count": 59,
   "outputs": [],
   "source": [
    "#!cp /tf/loqui/lrw_roi_npy_gray_pkl_jpeg/MOVING/train/* /tf/loqui/custom_lipread_pkls/LEADERSHIP/train\n",
    "\n",
    "# !rm -rf /tf/Daniel/custom_lipread_mp4/MOVING/test/test /tf/Daniel/custom_lipread_mp4/MOVING/val/val"
   ],
   "metadata": {
    "collapsed": false
   }
  }
 ],
 "metadata": {
  "kernelspec": {
   "display_name": "Python 3",
   "language": "python",
   "name": "python3"
  },
  "language_info": {
   "codemirror_mode": {
    "name": "ipython",
    "version": 2
   },
   "file_extension": ".py",
   "mimetype": "text/x-python",
   "name": "python",
   "nbconvert_exporter": "python",
   "pygments_lexer": "ipython2",
   "version": "2.7.6"
  }
 },
 "nbformat": 4,
 "nbformat_minor": 0
}
