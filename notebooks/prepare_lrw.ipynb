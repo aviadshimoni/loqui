{
 "cells": [
  {
   "cell_type": "code",
   "execution_count": 5,
   "metadata": {
    "collapsed": true
   },
   "outputs": [
    {
     "name": "stdout",
     "output_type": "stream",
     "text": [
      "[Errno 2] No such file or directory: 'loqui'\n",
      "/tf/loqui\n",
      "remote: Enumerating objects: 20, done.\u001B[K\r\n",
      "remote: Counting objects: 100% (20/20), done.\u001B[K\r\n",
      "remote: Compressing objects: 100% (7/7), done.\u001B[K\r\n",
      "remote: Total 14 (delta 8), reused 12 (delta 6), pack-reused 0\u001B[K\r\n",
      "Unpacking objects: 100% (14/14), 2.97 KiB | 506.00 KiB/s, done.\r\n",
      "From https://github.com/aviadshimoni/loqui\r\n",
      " * [new branch]      new-mp4-train -> origin/new-mp4-train\r\n",
      "Already up to date.\r\n",
      "Branch 'new-mp4-train' set up to track remote branch 'new-mp4-train' from 'origin'.\r\n",
      "Switched to a new branch 'new-mp4-train'\r\n",
      "From https://github.com/aviadshimoni/loqui\r\n",
      " * branch            new-mp4-train -> FETCH_HEAD\r\n",
      "Already up to date.\r\n"
     ]
    }
   ],
   "source": [
    "%cd loqui\n",
    "!git pull\n",
    "!git checkout new-mp4-train && git pull origin new-mp4-train\n"
   ]
  },
  {
   "cell_type": "code",
   "execution_count": 7,
   "outputs": [
    {
     "name": "stdout",
     "output_type": "stream",
     "text": [
      "  main\u001B[m\r\n",
      "* \u001B[32mnew-mp4-train\u001B[m\r\n",
      "Traceback (most recent call last):\r\n",
      "  File \"/tf/loqui/scripts/prepare_lrw.py\", line 175, in <module>\r\n",
      "    if _name_ == '_main_':\r\n",
      "NameError: name '_name_' is not defined\r\n"
     ]
    }
   ],
   "source": [
    "!git branch\n",
    "!python /tf/loqui/scripts/prepare_lrw.py"
   ],
   "metadata": {
    "collapsed": false
   }
  }
 ],
 "metadata": {
  "kernelspec": {
   "display_name": "Python 3",
   "language": "python",
   "name": "python3"
  },
  "language_info": {
   "codemirror_mode": {
    "name": "ipython",
    "version": 2
   },
   "file_extension": ".py",
   "mimetype": "text/x-python",
   "name": "python",
   "nbconvert_exporter": "python",
   "pygments_lexer": "ipython2",
   "version": "2.7.6"
  }
 },
 "nbformat": 4,
 "nbformat_minor": 0
}
