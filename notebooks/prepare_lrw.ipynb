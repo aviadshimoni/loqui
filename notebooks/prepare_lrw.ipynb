{
 "cells": [
  {
   "cell_type": "code",
   "execution_count": null,
   "metadata": {
    "collapsed": true
   },
   "outputs": [],
   "source": [
    "!cd /tf/Daniel\n",
    "\n",
    "!python /tf/loqui/scripts/prepare_lrw.py"
   ]
  },
  {
   "cell_type": "code",
   "execution_count": null,
   "outputs": [],
   "source": [
    "!cd /tf/loqui/scripts\n",
    "\n",
    "from visualize_pkl import view_video_from_pkl\n",
    "view_video_from_pkl(\"/tf/Daniel/custom_lipread_pkls/FRIDAY/train/FRIDAY_01001.pkl\")"
   ],
   "metadata": {
    "collapsed": false
   }
  }
 ],
 "metadata": {
  "kernelspec": {
   "display_name": "Python 3",
   "language": "python",
   "name": "python3"
  },
  "language_info": {
   "codemirror_mode": {
    "name": "ipython",
    "version": 2
   },
   "file_extension": ".py",
   "mimetype": "text/x-python",
   "name": "python",
   "nbconvert_exporter": "python",
   "pygments_lexer": "ipython2",
   "version": "2.7.6"
  }
 },
 "nbformat": 4,
 "nbformat_minor": 0
}
